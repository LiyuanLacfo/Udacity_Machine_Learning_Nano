{
 "cells": [
  {
   "cell_type": "markdown",
   "metadata": {
    "collapsed": true
   },
   "source": [
    "# Image Classification\n",
    "In this project, you'll classify images from the [CIFAR-10 dataset](https://www.cs.toronto.edu/~kriz/cifar.html).  The dataset consists of airplanes, dogs, cats, and other objects. You'll preprocess the images, then train a convolutional neural network on all the samples. The images need to be normalized and the labels need to be one-hot encoded.  You'll get to apply what you learned and build a convolutional, max pooling, dropout, and fully connected layers.  At the end, you'll get to see your neural network's predictions on the sample images.\n",
    "## Get the Data\n",
    "Run the following cell to download the [CIFAR-10 dataset for python](https://www.cs.toronto.edu/~kriz/cifar-10-python.tar.gz)."
   ]
  },
  {
   "cell_type": "code",
   "execution_count": 10,
   "metadata": {},
   "outputs": [
    {
     "name": "stdout",
     "output_type": "stream",
     "text": [
      "All files found!\n"
     ]
    }
   ],
   "source": [
    "\"\"\"\n",
    "DON'T MODIFY ANYTHING IN THIS CELL THAT IS BELOW THIS LINE\n",
    "\"\"\"\n",
    "from urllib.request import urlretrieve\n",
    "from os.path import isfile, isdir\n",
    "from tqdm import tqdm\n",
    "import problem_unittests as tests\n",
    "import tarfile\n",
    "\n",
    "cifar10_dataset_folder_path = 'cifar-10-batches-py'\n",
    "\n",
    "# Use Floyd's cifar-10 dataset if present\n",
    "floyd_cifar10_location = '/input/cifar-10/python.tar.gz'\n",
    "if isfile(floyd_cifar10_location):\n",
    "    tar_gz_path = floyd_cifar10_location\n",
    "else:\n",
    "    tar_gz_path = 'cifar-10-python.tar.gz'\n",
    "\n",
    "class DLProgress(tqdm):\n",
    "    last_block = 0\n",
    "\n",
    "    def hook(self, block_num=1, block_size=1, total_size=None):\n",
    "        self.total = total_size\n",
    "        self.update((block_num - self.last_block) * block_size)\n",
    "        self.last_block = block_num\n",
    "\n",
    "if not isfile(tar_gz_path):\n",
    "    with DLProgress(unit='B', unit_scale=True, miniters=1, desc='CIFAR-10 Dataset') as pbar:\n",
    "        urlretrieve(\n",
    "            'https://www.cs.toronto.edu/~kriz/cifar-10-python.tar.gz',\n",
    "            tar_gz_path,\n",
    "            pbar.hook)\n",
    "\n",
    "if not isdir(cifar10_dataset_folder_path):\n",
    "    with tarfile.open(tar_gz_path) as tar:\n",
    "        tar.extractall()\n",
    "        tar.close()\n",
    "\n",
    "\n",
    "tests.test_folder_path(cifar10_dataset_folder_path)"
   ]
  },
  {
   "cell_type": "markdown",
   "metadata": {},
   "source": [
    "## Explore the Data\n",
    "The dataset is broken into batches to prevent your machine from running out of memory.  The CIFAR-10 dataset consists of 5 batches, named `data_batch_1`, `data_batch_2`, etc.. Each batch contains the labels and images that are one of the following:\n",
    "* airplane\n",
    "* automobile\n",
    "* bird\n",
    "* cat\n",
    "* deer\n",
    "* dog\n",
    "* frog\n",
    "* horse\n",
    "* ship\n",
    "* truck\n",
    "\n",
    "Understanding a dataset is part of making predictions on the data.  Play around with the code cell below by changing the `batch_id` and `sample_id`. The `batch_id` is the id for a batch (1-5). The `sample_id` is the id for a image and label pair in the batch.\n",
    "\n",
    "Ask yourself \"What are all possible labels?\", \"What is the range of values for the image data?\", \"Are the labels in order or random?\".  Answers to questions like these will help you preprocess the data and end up with better predictions."
   ]
  },
  {
   "cell_type": "code",
   "execution_count": 11,
   "metadata": {},
   "outputs": [
    {
     "name": "stdout",
     "output_type": "stream",
     "text": [
      "\n",
      "Stats of batch 1:\n",
      "Samples: 10000\n",
      "Label Counts: {0: 1005, 1: 974, 2: 1032, 3: 1016, 4: 999, 5: 937, 6: 1030, 7: 1001, 8: 1025, 9: 981}\n",
      "First 20 Labels: [6, 9, 9, 4, 1, 1, 2, 7, 8, 3, 4, 7, 7, 2, 9, 9, 9, 3, 2, 6]\n",
      "\n",
      "Example of Image 10:\n",
      "Image - Min Value: 24 Max Value: 130\n",
      "Image - Shape: (32, 32, 3)\n",
      "Label - Label Id: 4 Name: deer\n"
     ]
    },
    {
     "data": {
      "image/png": "[encoded data removed]",
      "text/plain": [
       "<matplotlib.figure.Figure at 0x11f9db6a0>"
      ]
     },
     "metadata": {
      "image/png": {
       "height": 250,
       "width": 253
      }
     },
     "output_type": "display_data"
    }
   ],
   "source": [
    "%matplotlib inline\n",
    "%config InlineBackend.figure_format = 'retina'\n",
    "\n",
    "import helper\n",
    "import numpy as np\n",
    "\n",
    "# Explore the dataset\n",
    "batch_id = 1\n",
    "sample_id = 10\n",
    "helper.display_stats(cifar10_dataset_folder_path, batch_id, sample_id)"
   ]
  },
  {
   "cell_type": "markdown",
   "metadata": {},
   "source": [
    "## Implement Preprocess Functions\n",
    "### Normalize\n",
    "In the cell below, implement the `normalize` function to take in image data, `x`, and return it as a normalized Numpy array. The values should be in the range of 0 to 1, inclusive.  The return object should be the same shape as `x`."
   ]
  },
  {
   "cell_type": "code",
   "execution_count": 172,
   "metadata": {},
   "outputs": [
    {
     "name": "stdout",
     "output_type": "stream",
     "text": [
      "Tests Passed\n"
     ]
    }
   ],
   "source": [
    "def normalize(x):\n",
    "    \"\"\"\n",
    "    Normalize a list of sample image data in the range of 0 to 1\n",
    "    : x: List of image data.  The image shape is (32, 32, 3)\n",
    "    : return: Numpy array of normalize data\n",
    "    \"\"\"\n",
    "    # TODO: Implement Function\n",
    "    x = np.asarray(x)\n",
    "    min_value = np.min(x)\n",
    "    max_value = np.max(x)\n",
    "    x = 1.0*(x - min_value) / max_value\n",
    "    return x\n",
    "\n",
    "\n",
    "\"\"\"\n",
    "DON'T MODIFY ANYTHING IN THIS CELL THAT IS BELOW THIS LINE\n",
    "\"\"\"\n",
    "tests.test_normalize(normalize)"
   ]
  },
  {
   "cell_type": "markdown",
   "metadata": {},
   "source": [
    "### One-hot encode\n",
    "Just like the previous code cell, you'll be implementing a function for preprocessing.  This time, you'll implement the `one_hot_encode` function. The input, `x`, are a list of labels.  Implement the function to return the list of labels as One-Hot encoded Numpy array.  The possible values for labels are 0 to 9. The one-hot encoding function should return the same encoding for each value between each call to `one_hot_encode`.  Make sure to save the map of encodings outside the function.\n",
    "\n",
    "Hint: Don't reinvent the wheel."
   ]
  },
  {
   "cell_type": "code",
   "execution_count": 173,
   "metadata": {},
   "outputs": [
    {
     "name": "stdout",
     "output_type": "stream",
     "text": [
      "Tests Passed\n"
     ]
    }
   ],
   "source": [
    "def one_hot_encode(x):\n",
    "    \"\"\"\n",
    "    One hot encode a list of sample labels. Return a one-hot encoded vector for each label.\n",
    "    : x: List of sample Labels\n",
    "    : return: Numpy array of one-hot encoded labels\n",
    "    \"\"\"\n",
    "    # TODO: Implement Function\n",
    "    def vectorized(y):\n",
    "        \"\"\"`y` is the label number. Return a vector of length 10, where the yth element is 1, and all others are 0\"\"\"\n",
    "        result = np.zeros(10)\n",
    "        result[y] = 1.0\n",
    "        return result\n",
    "    encode = np.array([vectorized(label) for label in x])\n",
    "        \n",
    "    return encode\n",
    "\n",
    "\n",
    "\"\"\"\n",
    "DON'T MODIFY ANYTHING IN THIS CELL THAT IS BELOW THIS LINE\n",
    "\"\"\"\n",
    "tests.test_one_hot_encode(one_hot_encode)"
   ]
  },
  {
   "cell_type": "markdown",
   "metadata": {},
   "source": [
    "### Randomize Data\n",
    "As you saw from exploring the data above, the order of the samples are randomized.  It doesn't hurt to randomize it again, but you don't need to for this dataset."
   ]
  },
  {
   "cell_type": "markdown",
   "metadata": {},
   "source": [
    "## Preprocess all the data and save it\n",
    "Running the code cell below will preprocess all the CIFAR-10 data and save it to file. The code below also uses 10% of the training data for validation."
   ]
  },
  {
   "cell_type": "code",
   "execution_count": 174,
   "metadata": {
    "collapsed": true
   },
   "outputs": [],
   "source": [
    "\"\"\"\n",
    "DON'T MODIFY ANYTHING IN THIS CELL\n",
    "\"\"\"\n",
    "# Preprocess Training, Validation, and Testing Data\n",
    "helper.preprocess_and_save_data(cifar10_dataset_folder_path, normalize, one_hot_encode)"
   ]
  },
  {
   "cell_type": "markdown",
   "metadata": {},
   "source": [
    "# Check Point\n",
    "This is your first checkpoint.  If you ever decide to come back to this notebook or have to restart the notebook, you can start from here.  The preprocessed data has been saved to disk."
   ]
  },
  {
   "cell_type": "code",
   "execution_count": 175,
   "metadata": {
    "collapsed": true
   },
   "outputs": [],
   "source": [
    "\"\"\"\n",
    "DON'T MODIFY ANYTHING IN THIS CELL\n",
    "\"\"\"\n",
    "import pickle\n",
    "import problem_unittests as tests\n",
    "import helper\n",
    "\n",
    "# Load the Preprocessed Validation data\n",
    "valid_features, valid_labels = pickle.load(open('preprocess_validation.p', mode='rb'))"
   ]
  },
  {
   "cell_type": "markdown",
   "metadata": {},
   "source": [
    "## Build the network\n",
    "For the neural network, you'll build each layer into a function.  Most of the code you've seen has been outside of functions. To test your code more thoroughly, we require that you put each layer in a function.  This allows us to give you better feedback and test for simple mistakes using our unittests before you submit your project.\n",
    "\n",
    ">**Note:** If you're finding it hard to dedicate enough time for this course each week, we've provided a small shortcut to this part of the project. In the next couple of problems, you'll have the option to use classes from the [TensorFlow Layers](https://www.tensorflow.org/api_docs/python/tf/layers) or [TensorFlow Layers (contrib)](https://www.tensorflow.org/api_guides/python/contrib.layers) packages to build each layer, except the layers you build in the \"Convolutional and Max Pooling Layer\" section.  TF Layers is similar to Keras's and TFLearn's abstraction to layers, so it's easy to pickup.\n",
    "\n",
    ">However, if you would like to get the most out of this course, try to solve all the problems _without_ using anything from the TF Layers packages. You **can** still use classes from other packages that happen to have the same name as ones you find in TF Layers! For example, instead of using the TF Layers version of the `conv2d` class, [tf.layers.conv2d](https://www.tensorflow.org/api_docs/python/tf/layers/conv2d), you would want to use the TF Neural Network version of `conv2d`, [tf.nn.conv2d](https://www.tensorflow.org/api_docs/python/tf/nn/conv2d). \n",
    "\n",
    "Let's begin!\n",
    "\n",
    "### Input\n",
    "The neural network needs to read the image data, one-hot encoded labels, and dropout keep probability. Implement the following functions\n",
    "* Implement `neural_net_image_input`\n",
    " * Return a [TF Placeholder](https://www.tensorflow.org/api_docs/python/tf/placeholder)\n",
    " * Set the shape using `image_shape` with batch size set to `None`.\n",
    " * Name the TensorFlow placeholder \"x\" using the TensorFlow `name` parameter in the [TF Placeholder](https://www.tensorflow.org/api_docs/python/tf/placeholder).\n",
    "* Implement `neural_net_label_input`\n",
    " * Return a [TF Placeholder](https://www.tensorflow.org/api_docs/python/tf/placeholder)\n",
    " * Set the shape using `n_classes` with batch size set to `None`.\n",
    " * Name the TensorFlow placeholder \"y\" using the TensorFlow `name` parameter in the [TF Placeholder](https://www.tensorflow.org/api_docs/python/tf/placeholder).\n",
    "* Implement `neural_net_keep_prob_input`\n",
    " * Return a [TF Placeholder](https://www.tensorflow.org/api_docs/python/tf/placeholder) for dropout keep probability.\n",
    " * Name the TensorFlow placeholder \"keep_prob\" using the TensorFlow `name` parameter in the [TF Placeholder](https://www.tensorflow.org/api_docs/python/tf/placeholder).\n",
    "\n",
    "These names will be used at the end of the project to load your saved model.\n",
    "\n",
    "Note: `None` for shapes in TensorFlow allow for a dynamic size."
   ]
  },
  {
   "cell_type": "code",
   "execution_count": 182,
   "metadata": {},
   "outputs": [
    {
     "name": "stdout",
     "output_type": "stream",
     "text": [
      "Image Input Tests Passed.\n",
      "Label Input Tests Passed.\n",
      "Keep Prob Tests Passed.\n"
     ]
    }
   ],
   "source": [
    "import tensorflow as tf\n",
    "\n",
    "def neural_net_image_input(image_shape):\n",
    "    \"\"\"\n",
    "    Return a Tensor for a batch of image input\n",
    "    : image_shape: Shape of the images\n",
    "    : return: Tensor for image input.\n",
    "    \"\"\"\n",
    "    # TODO: Implement Function\n",
    "    x = tf.placeholder(tf.float32, shape=[None]+list(image_shape), name=\"x\")\n",
    "    return x\n",
    "\n",
    "\n",
    "def neural_net_label_input(n_classes):\n",
    "    \"\"\"\n",
    "    Return a Tensor for a batch of label input\n",
    "    : n_classes: Number of classes\n",
    "    : return: Tensor for label input.\n",
    "    \"\"\"\n",
    "    # TODO: Implement Function\n",
    "    y = tf.placeholder(tf.float32, shape=[None, n_classes], name=\"y\")\n",
    "    return y\n",
    "\n",
    "\n",
    "def neural_net_keep_prob_input():\n",
    "    \"\"\"\n",
    "    Return a Tensor for keep probability\n",
    "    : return: Tensor for keep probability.\n",
    "    \"\"\"\n",
    "    # TODO: Implement Function\n",
    "    keep_prob = tf.placeholder(tf.float32, name=\"keep_prob\")\n",
    "    return keep_prob\n",
    "\n",
    "\n",
    "\"\"\"\n",
    "DON'T MODIFY ANYTHING IN THIS CELL THAT IS BELOW THIS LINE\n",
    "\"\"\"\n",
    "tf.reset_default_graph()\n",
    "tests.test_nn_image_inputs(neural_net_image_input)\n",
    "tests.test_nn_label_inputs(neural_net_label_input)\n",
    "tests.test_nn_keep_prob_inputs(neural_net_keep_prob_input)"
   ]
  },
  {
   "cell_type": "markdown",
   "metadata": {},
   "source": [
    "### Convolution and Max Pooling Layer\n",
    "Convolution layers have a lot of success with images. For this code cell, you should implement the function `conv2d_maxpool` to apply convolution then max pooling:\n",
    "* Create the weight and bias using `conv_ksize`, `conv_num_outputs` and the shape of `x_tensor`.\n",
    "* Apply a convolution to `x_tensor` using weight and `conv_strides`.\n",
    " * We recommend you use same padding, but you're welcome to use any padding.\n",
    "* Add bias\n",
    "* Add a nonlinear activation to the convolution.\n",
    "* Apply Max Pooling using `pool_ksize` and `pool_strides`.\n",
    " * We recommend you use same padding, but you're welcome to use any padding.\n",
    "\n",
    "**Note:** You **can't** use [TensorFlow Layers](https://www.tensorflow.org/api_docs/python/tf/layers) or [TensorFlow Layers (contrib)](https://www.tensorflow.org/api_guides/python/contrib.layers) for **this** layer, but you can still use TensorFlow's [Neural Network](https://www.tensorflow.org/api_docs/python/tf/nn) package. You may still use the shortcut option for all the **other** layers."
   ]
  },
  {
   "cell_type": "code",
   "execution_count": 183,
   "metadata": {},
   "outputs": [
    {
     "name": "stdout",
     "output_type": "stream",
     "text": [
      "Tests Passed\n"
     ]
    }
   ],
   "source": [
    "def conv2d_maxpool(x_tensor, conv_num_outputs, conv_ksize, conv_strides, pool_ksize, pool_strides):\n",
    "    \"\"\"\n",
    "    Apply convolution then max pooling to x_tensor\n",
    "    :param x_tensor: TensorFlow Tensor\n",
    "    :param conv_num_outputs: Number of outputs for the convolutional layer\n",
    "    :param conv_ksize: kernal size 2-D Tuple for the convolutional layer\n",
    "    :param conv_strides: Stride 2-D Tuple for convolution\n",
    "    :param pool_ksize: kernal size 2-D Tuple for pool\n",
    "    :param pool_strides: Stride 2-D Tuple for pool\n",
    "    : return: A tensor that represents convolution and max pooling of x_tensor\n",
    "    \"\"\"\n",
    "    # TODO: Implement Function\n",
    "    # Get the input image depth\n",
    "    image_depth = x_tensor.get_shape().as_list()[3]\n",
    "    # Get the filter depth\n",
    "    filter_depth = conv_num_outputs\n",
    "    # Get the filter shape\n",
    "    filter_shape = list(conv_ksize) + [image_depth, filter_depth]\n",
    "    # Set the weights variable\n",
    "    filter_weights = tf.Variable(tf.truncated_normal(filter_shape))\n",
    "    # Set the bias variable\n",
    "    filter_biases = tf.Variable(tf.truncated_normal([filter_depth]))\n",
    "    # Set the padding\n",
    "    padding = \"SAME\"\n",
    "    # Set the strides\n",
    "    strides = [1] + list(conv_strides) + [1]\n",
    "    \n",
    "    conv_output = tf.nn.conv2d(x_tensor, filter_weights, strides, padding)\n",
    "    conv_output = tf.nn.bias_add(conv_output, filter_biases)\n",
    "    # The convolutional layer output activations\n",
    "    conv_activations = tf.nn.relu(conv_output)\n",
    "    # Set the kernel size for pooling\n",
    "    p_ksize = [1] + list(pool_ksize) + [1]\n",
    "    # Set the strides for pooling\n",
    "    p_strides = [1] + list(pool_strides) + [1]\n",
    "    pool_output = tf.nn.max_pool(conv_activations, p_ksize, p_strides, padding)\n",
    "    return pool_output \n",
    "\n",
    "\n",
    "\"\"\"\n",
    "DON'T MODIFY ANYTHING IN THIS CELL THAT IS BELOW THIS LINE\n",
    "\"\"\"\n",
    "tests.test_con_pool(conv2d_maxpool)"
   ]
  },
  {
   "cell_type": "markdown",
   "metadata": {},
   "source": [
    "### Flatten Layer\n",
    "Implement the `flatten` function to change the dimension of `x_tensor` from a 4-D tensor to a 2-D tensor.  The output should be the shape (*Batch Size*, *Flattened Image Size*). Shortcut option: you can use classes from the [TensorFlow Layers](https://www.tensorflow.org/api_docs/python/tf/layers) or [TensorFlow Layers (contrib)](https://www.tensorflow.org/api_guides/python/contrib.layers) packages for this layer. For more of a challenge, only use other TensorFlow packages."
   ]
  },
  {
   "cell_type": "code",
   "execution_count": 184,
   "metadata": {},
   "outputs": [
    {
     "name": "stdout",
     "output_type": "stream",
     "text": [
      "Tests Passed\n"
     ]
    }
   ],
   "source": [
    "def flatten(x_tensor):\n",
    "    \"\"\"\n",
    "    Flatten x_tensor to (Batch Size, Flattened Image Size)\n",
    "    : x_tensor: A tensor of size (Batch Size, ...), where ... are the image dimensions.\n",
    "    : return: A tensor of size (Batch Size, Flattened Image Size).\n",
    "    \"\"\"\n",
    "    # TODO: Implement Function\n",
    "    image_size = np.prod(x_tensor.get_shape().as_list()[1:])\n",
    "    x = tf.reshape(x_tensor, [-1, image_size])\n",
    "    return x\n",
    "\n",
    "\n",
    "\"\"\"\n",
    "DON'T MODIFY ANYTHING IN THIS CELL THAT IS BELOW THIS LINE\n",
    "\"\"\"\n",
    "tests.test_flatten(flatten)"
   ]
  },
  {
   "cell_type": "markdown",
   "metadata": {},
   "source": [
    "### Fully-Connected Layer\n",
    "Implement the `fully_conn` function to apply a fully connected layer to `x_tensor` with the shape (*Batch Size*, *num_outputs*). Shortcut option: you can use classes from the [TensorFlow Layers](https://www.tensorflow.org/api_docs/python/tf/layers) or [TensorFlow Layers (contrib)](https://www.tensorflow.org/api_guides/python/contrib.layers) packages for this layer. For more of a challenge, only use other TensorFlow packages."
   ]
  },
  {
   "cell_type": "code",
   "execution_count": 185,
   "metadata": {},
   "outputs": [
    {
     "name": "stdout",
     "output_type": "stream",
     "text": [
      "Tests Passed\n"
     ]
    }
   ],
   "source": [
    "def fully_conn(x_tensor, num_outputs):\n",
    "    \"\"\"\n",
    "    Apply a fully connected layer to x_tensor using weight and bias\n",
    "    : x_tensor: A 2-D tensor where the first dimension is batch size.\n",
    "    : num_outputs: The number of output that the new tensor should be.\n",
    "    : return: A 2-D tensor where the second dimension is num_outputs.\n",
    "    \"\"\"\n",
    "    # TODO: Implement Function\n",
    "    # Set the weights and biases\n",
    "    # Get the row and column number of weights\n",
    "    row_number = x_tensor.get_shape().as_list()[1]\n",
    "    column_number = num_outputs\n",
    "    w = tf.Variable(tf.truncated_normal([row_number, column_number]))\n",
    "    b = tf.Variable(tf.truncated_normal([column_number]))\n",
    "    z_values = tf.add(tf.matmul(x_tensor, w), b)\n",
    "    activations = tf.nn.relu(z_values)\n",
    "    return activations\n",
    "\n",
    "\n",
    "\"\"\"\n",
    "DON'T MODIFY ANYTHING IN THIS CELL THAT IS BELOW THIS LINE\n",
    "\"\"\"\n",
    "tests.test_fully_conn(fully_conn)"
   ]
  },
  {
   "cell_type": "markdown",
   "metadata": {},
   "source": [
    "### Output Layer\n",
    "Implement the `output` function to apply a fully connected layer to `x_tensor` with the shape (*Batch Size*, *num_outputs*). Shortcut option: you can use classes from the [TensorFlow Layers](https://www.tensorflow.org/api_docs/python/tf/layers) or [TensorFlow Layers (contrib)](https://www.tensorflow.org/api_guides/python/contrib.layers) packages for this layer. For more of a challenge, only use other TensorFlow packages.\n",
    "\n",
    "**Note:** Activation, softmax, or cross entropy should **not** be applied to this."
   ]
  },
  {
   "cell_type": "code",
   "execution_count": 186,
   "metadata": {},
   "outputs": [
    {
     "name": "stdout",
     "output_type": "stream",
     "text": [
      "Tests Passed\n"
     ]
    }
   ],
   "source": [
    "def output(x_tensor, num_outputs):\n",
    "    \"\"\"\n",
    "    Apply a output layer to x_tensor using weight and bias\n",
    "    : x_tensor: A 2-D tensor where the first dimension is batch size.\n",
    "    : num_outputs: The number of output that the new tensor should be.\n",
    "    : return: A 2-D tensor where the second dimension is num_outputs.\n",
    "    \"\"\"\n",
    "    # TODO: Implement Function\n",
    "    \n",
    "    row_number = x_tensor.get_shape().as_list()[1]\n",
    "    column_number = num_outputs\n",
    "    w = tf.Variable(tf.truncated_normal([row_number, column_number]))\n",
    "    b = tf.Variable(tf.truncated_normal([column_number]))\n",
    "    output = tf.add(tf.matmul(x_tensor, w), b)\n",
    "    return output\n",
    "\n",
    "\n",
    "\"\"\"\n",
    "DON'T MODIFY ANYTHING IN THIS CELL THAT IS BELOW THIS LINE\n",
    "\"\"\"\n",
    "tests.test_output(output)"
   ]
  },
  {
   "cell_type": "markdown",
   "metadata": {},
   "source": [
    "### Create Convolutional Model\n",
    "Implement the function `conv_net` to create a convolutional neural network model. The function takes in a batch of images, `x`, and outputs logits.  Use the layers you created above to create this model:\n",
    "\n",
    "* Apply 1, 2, or 3 Convolution and Max Pool layers\n",
    "* Apply a Flatten Layer\n",
    "* Apply 1, 2, or 3 Fully Connected Layers\n",
    "* Apply an Output Layer\n",
    "* Return the output\n",
    "* Apply [TensorFlow's Dropout](https://www.tensorflow.org/api_docs/python/tf/nn/dropout) to one or more layers in the model using `keep_prob`. "
   ]
  },
  {
   "cell_type": "code",
   "execution_count": 254,
   "metadata": {},
   "outputs": [
    {
     "name": "stdout",
     "output_type": "stream",
     "text": [
      "Neural Network Built!\n"
     ]
    }
   ],
   "source": [
    "def conv_net(x, keep_prob):\n",
    "    \"\"\"\n",
    "    Create a convolutional neural network model\n",
    "    : x: Placeholder tensor that holds image data.\n",
    "    : keep_prob: Placeholder tensor that hold dropout keep probability.\n",
    "    : return: Tensor that represents logits\n",
    "    \"\"\"\n",
    "    # TODO: Apply 1, 2, or 3 Convolution and Max Pool layers\n",
    "    #    Play around with different number of outputs, kernel size and stride\n",
    "    # Function Definition from Above:\n",
    "    #    conv2d_maxpool(x_tensor, conv_num_outputs, conv_ksize, conv_strides, pool_ksize, pool_strides)\n",
    "    conv1 = conv2d_maxpool(x, 32, (3, 3), (1, 1), (2, 2), (1, 1))\n",
    "#     conv2 = conv2d_maxpool(conv1, 20, (5, 5), (2, 2), (2, 2), (2, 2))\n",
    "#     conv3 = conv2d_maxpool(conv2, 20, (2, 2), (1, 1), (2, 2), (1, 1))\n",
    "    \n",
    "\n",
    "    # TODO: Apply a Flatten Layer\n",
    "    # Function Definition from Above:\n",
    "    #   flatten(x_tensor)\n",
    "    flatten_layer = flatten(conv1)\n",
    "    shape_of_flatten_layer = flatten_layer.get_shape().as_list()\n",
    "#     print(shape_of_flatten_layer[1])\n",
    "    fully_num_output = int(np.floor(shape_of_flatten_layer[1]/3))\n",
    "#     print (fully_num_output)\n",
    "    \n",
    "\n",
    "    # TODO: Apply 1, 2, or 3 Fully Connected Layers\n",
    "    #    Play around with different number of outputs\n",
    "    # Function Definition from Above:\n",
    "    #   fully_conn(x_tensor, num_outputs)\n",
    "    fully_layer = fully_conn(flatten_layer, fully_num_output)\n",
    "    fully_layer = tf.nn.dropout(fully_layer, keep_prob)\n",
    "    \n",
    "    \n",
    "    \n",
    "    # TODO: Apply an Output Layer\n",
    "    #    Set this to the number of classes\n",
    "    # Function Definition from Above:\n",
    "    #   output(x_tensor, num_outputs)\n",
    "    output_layer = output(fully_layer, 10)\n",
    "    \n",
    "    \n",
    "    # TODO: return output\n",
    "    return output_layer\n",
    "\n",
    "\n",
    "\"\"\"\n",
    "DON'T MODIFY ANYTHING IN THIS CELL THAT IS BELOW THIS LINE\n",
    "\"\"\"\n",
    "\n",
    "##############################\n",
    "## Build the Neural Network ##\n",
    "##############################\n",
    "\n",
    "# Remove previous weights, bias, inputs, etc..\n",
    "tf.reset_default_graph()\n",
    "\n",
    "# Inputs\n",
    "x = neural_net_image_input((32, 32, 3))\n",
    "y = neural_net_label_input(10)\n",
    "keep_prob = neural_net_keep_prob_input()\n",
    "\n",
    "# Model\n",
    "logits = conv_net(x, keep_prob)\n",
    "\n",
    "# Name logits Tensor, so that is can be loaded from disk after training\n",
    "logits = tf.identity(logits, name='logits')\n",
    "\n",
    "# Loss and Optimizer\n",
    "cost = tf.reduce_mean(tf.nn.softmax_cross_entropy_with_logits(logits=logits, labels=y))\n",
    "optimizer = tf.train.AdamOptimizer().minimize(cost)\n",
    "# optimizer = tf.train.GradientDescentOptimizer(learning_rate = 0.005).minimize(cost)\n",
    "\n",
    "# Accuracy\n",
    "correct_pred = tf.equal(tf.argmax(logits, 1), tf.argmax(y, 1))\n",
    "accuracy = tf.reduce_mean(tf.cast(correct_pred, tf.float32), name='accuracy')\n",
    "\n",
    "tests.test_conv_net(conv_net)"
   ]
  },
  {
   "cell_type": "markdown",
   "metadata": {},
   "source": [
    "## Train the Neural Network\n",
    "### Single Optimization\n",
    "Implement the function `train_neural_network` to do a single optimization.  The optimization should use `optimizer` to optimize in `session` with a `feed_dict` of the following:\n",
    "* `x` for image input\n",
    "* `y` for labels\n",
    "* `keep_prob` for keep probability for dropout\n",
    "\n",
    "This function will be called for each batch, so `tf.global_variables_initializer()` has already been called.\n",
    "\n",
    "Note: Nothing needs to be returned. This function is only optimizing the neural network."
   ]
  },
  {
   "cell_type": "code",
   "execution_count": 255,
   "metadata": {},
   "outputs": [
    {
     "name": "stdout",
     "output_type": "stream",
     "text": [
      "Tests Passed\n"
     ]
    }
   ],
   "source": [
    "def train_neural_network(session, optimizer, keep_probability, feature_batch, label_batch):\n",
    "    \"\"\"\n",
    "    Optimize the session on a batch of images and labels\n",
    "    : session: Current TensorFlow session\n",
    "    : optimizer: TensorFlow optimizer function\n",
    "    : keep_probability: keep probability\n",
    "    : feature_batch: Batch of Numpy image data\n",
    "    : label_batch: Batch of Numpy label data\n",
    "    \"\"\"\n",
    "    # TODO: Implement Function\n",
    "    session.run(optimizer, feed_dict={\n",
    "        x: feature_batch,\n",
    "        y: label_batch,\n",
    "        keep_prob: keep_probability\n",
    "    })\n",
    "\n",
    "\n",
    "\n",
    "\"\"\"\n",
    "DON'T MODIFY ANYTHING IN THIS CELL THAT IS BELOW THIS LINE\n",
    "\"\"\"\n",
    "tests.test_train_nn(train_neural_network)"
   ]
  },
  {
   "cell_type": "markdown",
   "metadata": {},
   "source": [
    "### Show Stats\n",
    "Implement the function `print_stats` to print loss and validation accuracy.  Use the global variables `valid_features` and `valid_labels` to calculate validation accuracy.  Use a keep probability of `1.0` to calculate the loss and validation accuracy."
   ]
  },
  {
   "cell_type": "code",
   "execution_count": 256,
   "metadata": {
    "collapsed": true
   },
   "outputs": [],
   "source": [
    "def print_stats(session, feature_batch, label_batch, cost, accuracy):\n",
    "    \"\"\"\n",
    "    Print information about loss and validation accuracy\n",
    "    : session: Current TensorFlow session\n",
    "    : feature_batch: Batch of Numpy image data\n",
    "    : label_batch: Batch of Numpy label data\n",
    "    : cost: TensorFlow cost function\n",
    "    : accuracy: TensorFlow accuracy function\n",
    "    \"\"\"\n",
    "    # TODO: Implement Function\n",
    "    c = session.run(cost, feed_dict={\n",
    "        x: feature_batch,\n",
    "        y: label_batch,\n",
    "        keep_prob: 1.0\n",
    "    })\n",
    "    acc = session.run(accuracy, feed_dict={\n",
    "        x: valid_features,\n",
    "        y: valid_labels,\n",
    "        keep_prob: 1.0\n",
    "    })\n",
    "    print (\"The cost on train set is {}\".format(c))\n",
    "    print (\"The accuracy on this validation set is {}\".format(acc))"
   ]
  },
  {
   "cell_type": "markdown",
   "metadata": {},
   "source": [
    "### Hyperparameters\n",
    "Tune the following parameters:\n",
    "* Set `epochs` to the number of iterations until the network stops learning or start overfitting\n",
    "* Set `batch_size` to the highest number that your machine has memory for.  Most people set them to common sizes of memory:\n",
    " * 64\n",
    " * 128\n",
    " * 256\n",
    " * ...\n",
    "* Set `keep_probability` to the probability of keeping a node using dropout"
   ]
  },
  {
   "cell_type": "code",
   "execution_count": 257,
   "metadata": {
    "collapsed": true
   },
   "outputs": [],
   "source": [
    "# TODO: Tune Parameters\n",
    "epochs = 30\n",
    "batch_size = 128\n",
    "keep_probability = 1.0"
   ]
  },
  {
   "cell_type": "markdown",
   "metadata": {},
   "source": [
    "### Train on a Single CIFAR-10 Batch\n",
    "Instead of training the neural network on all the CIFAR-10 batches of data, let's use a single batch. This should save time while you iterate on the model to get a better accuracy.  Once the final validation accuracy is 50% or greater, run the model on all the data in the next section."
   ]
  },
  {
   "cell_type": "code",
   "execution_count": 258,
   "metadata": {},
   "outputs": [
    {
     "name": "stdout",
     "output_type": "stream",
     "text": [
      "Checking the Training on a Single Batch...\n",
      "Epoch  1, CIFAR-10 Batch 1:  The cost on train set is 2808.32421875\n",
      "The accuracy on this validation set is 0.350600004196167\n",
      "Epoch  2, CIFAR-10 Batch 1:  The cost on train set is 935.71337890625\n",
      "The accuracy on this validation set is 0.3898000121116638\n",
      "Epoch  3, CIFAR-10 Batch 1:  The cost on train set is 467.4349670410156\n",
      "The accuracy on this validation set is 0.39879998564720154\n",
      "Epoch  4, CIFAR-10 Batch 1:  The cost on train set is 175.61106872558594\n",
      "The accuracy on this validation set is 0.4275999963283539\n",
      "Epoch  5, CIFAR-10 Batch 1:  The cost on train set is 345.453857421875\n",
      "The accuracy on this validation set is 0.40799999237060547\n",
      "Epoch  6, CIFAR-10 Batch 1:  The cost on train set is 132.4112091064453\n",
      "The accuracy on this validation set is 0.40720000863075256\n",
      "Epoch  7, CIFAR-10 Batch 1:  The cost on train set is 73.65048217773438\n",
      "The accuracy on this validation set is 0.41620001196861267\n",
      "Epoch  8, CIFAR-10 Batch 1:  The cost on train set is 51.17790603637695\n",
      "The accuracy on this validation set is 0.45899999141693115\n",
      "Epoch  9, CIFAR-10 Batch 1:  The cost on train set is 60.266517639160156\n",
      "The accuracy on this validation set is 0.44600000977516174\n",
      "Epoch 10, CIFAR-10 Batch 1:  The cost on train set is 49.62886428833008\n",
      "The accuracy on this validation set is 0.44760000705718994\n",
      "Epoch 11, CIFAR-10 Batch 1:  The cost on train set is 4.45635986328125\n",
      "The accuracy on this validation set is 0.4869999885559082\n",
      "Epoch 12, CIFAR-10 Batch 1:  The cost on train set is 1.1727173328399658\n",
      "The accuracy on this validation set is 0.46480000019073486\n",
      "Epoch 13, CIFAR-10 Batch 1:  The cost on train set is 0.0\n",
      "The accuracy on this validation set is 0.4747999906539917\n",
      "Epoch 14, CIFAR-10 Batch 1:  The cost on train set is 0.0\n",
      "The accuracy on this validation set is 0.49380001425743103\n",
      "Epoch 15, CIFAR-10 Batch 1:  The cost on train set is 22.206668853759766\n",
      "The accuracy on this validation set is 0.4991999864578247\n",
      "Epoch 16, CIFAR-10 Batch 1:  The cost on train set is 0.0028251188341528177\n",
      "The accuracy on this validation set is 0.4772000014781952\n",
      "Epoch 17, CIFAR-10 Batch 1:  The cost on train set is 0.0\n",
      "The accuracy on this validation set is 0.48919999599456787\n",
      "Epoch 18, CIFAR-10 Batch 1:  The cost on train set is 0.0\n",
      "The accuracy on this validation set is 0.49880000948905945\n",
      "Epoch 19, CIFAR-10 Batch 1:  The cost on train set is 1.4275329113006592\n",
      "The accuracy on this validation set is 0.47780001163482666\n",
      "Epoch 20, CIFAR-10 Batch 1:  The cost on train set is 0.0\n",
      "The accuracy on this validation set is 0.5027999877929688\n",
      "Epoch 21, CIFAR-10 Batch 1:  The cost on train set is 97.177001953125\n",
      "The accuracy on this validation set is 0.4230000078678131\n",
      "Epoch 22, CIFAR-10 Batch 1:  The cost on train set is 60.47440719604492\n",
      "The accuracy on this validation set is 0.412200003862381\n",
      "Epoch 23, CIFAR-10 Batch 1:  The cost on train set is 0.0\n",
      "The accuracy on this validation set is 0.4521999955177307\n",
      "Epoch 24, CIFAR-10 Batch 1:  The cost on train set is 3.390511989593506\n",
      "The accuracy on this validation set is 0.49900001287460327\n",
      "Epoch 25, CIFAR-10 Batch 1:  The cost on train set is 0.0\n",
      "The accuracy on this validation set is 0.504800021648407\n",
      "Epoch 26, CIFAR-10 Batch 1:  The cost on train set is 0.0\n",
      "The accuracy on this validation set is 0.51419997215271\n",
      "Epoch 27, CIFAR-10 Batch 1:  The cost on train set is 0.0\n",
      "The accuracy on this validation set is 0.5037999749183655\n",
      "Epoch 28, CIFAR-10 Batch 1:  The cost on train set is 0.0\n",
      "The accuracy on this validation set is 0.5073999762535095\n",
      "Epoch 29, CIFAR-10 Batch 1:  The cost on train set is 0.0\n",
      "The accuracy on this validation set is 0.5112000107765198\n",
      "Epoch 30, CIFAR-10 Batch 1:  The cost on train set is 0.0\n",
      "The accuracy on this validation set is 0.503600001335144\n"
     ]
    }
   ],
   "source": [
    "\"\"\"\n",
    "DON'T MODIFY ANYTHING IN THIS CELL\n",
    "\"\"\"\n",
    "print('Checking the Training on a Single Batch...')\n",
    "with tf.Session() as sess:\n",
    "    # Initializing the variables\n",
    "    sess.run(tf.global_variables_initializer())\n",
    "    \n",
    "    # Training cycle\n",
    "    for epoch in range(epochs):\n",
    "        batch_i = 1\n",
    "        for batch_features, batch_labels in helper.load_preprocess_training_batch(batch_i, batch_size):\n",
    "            train_neural_network(sess, optimizer, keep_probability, batch_features, batch_labels)\n",
    "        print('Epoch {:>2}, CIFAR-10 Batch {}:  '.format(epoch + 1, batch_i), end='')\n",
    "        print_stats(sess, batch_features, batch_labels, cost, accuracy)"
   ]
  },
  {
   "cell_type": "markdown",
   "metadata": {},
   "source": [
    "### Fully Train the Model\n",
    "Now that you got a good accuracy with a single CIFAR-10 batch, try it with all five batches."
   ]
  },
  {
   "cell_type": "code",
   "execution_count": 259,
   "metadata": {},
   "outputs": [
    {
     "name": "stdout",
     "output_type": "stream",
     "text": [
      "Training...\n",
      "Epoch  1, CIFAR-10 Batch 1:  The cost on train set is 3700.10107421875\n",
      "The accuracy on this validation set is 0.33180001378059387\n",
      "Epoch  1, CIFAR-10 Batch 2:  The cost on train set is 2547.5859375\n",
      "The accuracy on this validation set is 0.31520000100135803\n",
      "Epoch  1, CIFAR-10 Batch 3:  The cost on train set is 1392.289306640625\n",
      "The accuracy on this validation set is 0.4009999930858612\n",
      "Epoch  1, CIFAR-10 Batch 4:  The cost on train set is 2126.59228515625\n",
      "The accuracy on this validation set is 0.44179999828338623\n",
      "Epoch  1, CIFAR-10 Batch 5:  The cost on train set is 1661.383544921875\n",
      "The accuracy on this validation set is 0.4275999963283539\n",
      "Epoch  2, CIFAR-10 Batch 1:  The cost on train set is 1233.3167724609375\n",
      "The accuracy on this validation set is 0.45080000162124634\n",
      "Epoch  2, CIFAR-10 Batch 2:  The cost on train set is 683.0853271484375\n",
      "The accuracy on this validation set is 0.4803999960422516\n",
      "Epoch  2, CIFAR-10 Batch 3:  The cost on train set is 304.7618713378906\n",
      "The accuracy on this validation set is 0.47440001368522644\n",
      "Epoch  2, CIFAR-10 Batch 4:  The cost on train set is 618.18408203125\n",
      "The accuracy on this validation set is 0.4684000015258789\n",
      "Epoch  2, CIFAR-10 Batch 5:  The cost on train set is 357.778076171875\n",
      "The accuracy on this validation set is 0.4959999918937683\n",
      "Epoch  3, CIFAR-10 Batch 1:  The cost on train set is 359.2802429199219\n",
      "The accuracy on this validation set is 0.49219998717308044\n",
      "Epoch  3, CIFAR-10 Batch 2:  The cost on train set is 340.17376708984375\n",
      "The accuracy on this validation set is 0.477400004863739\n",
      "Epoch  3, CIFAR-10 Batch 3:  The cost on train set is 102.54083251953125\n",
      "The accuracy on this validation set is 0.4717999994754791\n",
      "Epoch  3, CIFAR-10 Batch 4:  The cost on train set is 156.50448608398438\n",
      "The accuracy on this validation set is 0.49399998784065247\n",
      "Epoch  3, CIFAR-10 Batch 5:  The cost on train set is 162.81881713867188\n",
      "The accuracy on this validation set is 0.48080000281333923\n",
      "Epoch  4, CIFAR-10 Batch 1:  The cost on train set is 254.5703582763672\n",
      "The accuracy on this validation set is 0.4959999918937683\n",
      "Epoch  4, CIFAR-10 Batch 2:  The cost on train set is 113.8467025756836\n",
      "The accuracy on this validation set is 0.4984000027179718\n",
      "Epoch  4, CIFAR-10 Batch 3:  The cost on train set is 132.9427947998047\n",
      "The accuracy on this validation set is 0.47839999198913574\n",
      "Epoch  4, CIFAR-10 Batch 4:  The cost on train set is 147.9000244140625\n",
      "The accuracy on this validation set is 0.4742000102996826\n",
      "Epoch  4, CIFAR-10 Batch 5:  The cost on train set is 36.473655700683594\n",
      "The accuracy on this validation set is 0.4851999878883362\n",
      "Epoch  5, CIFAR-10 Batch 1:  The cost on train set is 123.766845703125\n",
      "The accuracy on this validation set is 0.5170000195503235\n",
      "Epoch  5, CIFAR-10 Batch 2:  The cost on train set is 87.59210968017578\n",
      "The accuracy on this validation set is 0.4666000008583069\n",
      "Epoch  5, CIFAR-10 Batch 3:  The cost on train set is 27.14792251586914\n",
      "The accuracy on this validation set is 0.4553999900817871\n",
      "Epoch  5, CIFAR-10 Batch 4:  The cost on train set is 132.1505584716797\n",
      "The accuracy on this validation set is 0.4848000109195709\n",
      "Epoch  5, CIFAR-10 Batch 5:  The cost on train set is 117.0379409790039\n",
      "The accuracy on this validation set is 0.48260000348091125\n",
      "Epoch  6, CIFAR-10 Batch 1:  The cost on train set is 102.7108383178711\n",
      "The accuracy on this validation set is 0.5077999830245972\n",
      "Epoch  6, CIFAR-10 Batch 2:  The cost on train set is 5.276487827301025\n",
      "The accuracy on this validation set is 0.4796000123023987\n",
      "Epoch  6, CIFAR-10 Batch 3:  The cost on train set is 6.136761665344238\n",
      "The accuracy on this validation set is 0.5138000249862671\n",
      "Epoch  6, CIFAR-10 Batch 4:  The cost on train set is 100.96989440917969\n",
      "The accuracy on this validation set is 0.508400022983551\n",
      "Epoch  6, CIFAR-10 Batch 5:  The cost on train set is 170.48379516601562\n",
      "The accuracy on this validation set is 0.4893999993801117\n",
      "Epoch  7, CIFAR-10 Batch 1:  The cost on train set is 20.376394271850586\n",
      "The accuracy on this validation set is 0.5203999876976013\n",
      "Epoch  7, CIFAR-10 Batch 2:  The cost on train set is 5.598837375640869\n",
      "The accuracy on this validation set is 0.5239999890327454\n",
      "Epoch  7, CIFAR-10 Batch 3:  The cost on train set is 55.487457275390625\n",
      "The accuracy on this validation set is 0.4867999851703644\n",
      "Epoch  7, CIFAR-10 Batch 4:  The cost on train set is 58.44780731201172\n",
      "The accuracy on this validation set is 0.48980000615119934\n",
      "Epoch  7, CIFAR-10 Batch 5:  The cost on train set is 5.87725830078125\n",
      "The accuracy on this validation set is 0.5465999841690063\n",
      "Epoch  8, CIFAR-10 Batch 1:  The cost on train set is 6.813961982727051\n",
      "The accuracy on this validation set is 0.5411999821662903\n",
      "Epoch  8, CIFAR-10 Batch 2:  The cost on train set is 7.779170036315918\n",
      "The accuracy on this validation set is 0.5081999897956848\n",
      "Epoch  8, CIFAR-10 Batch 3:  The cost on train set is 43.57147979736328\n",
      "The accuracy on this validation set is 0.49079999327659607\n",
      "Epoch  8, CIFAR-10 Batch 4:  The cost on train set is 6.233413219451904\n",
      "The accuracy on this validation set is 0.5184000134468079\n",
      "Epoch  8, CIFAR-10 Batch 5:  The cost on train set is 3.816943407058716\n",
      "The accuracy on this validation set is 0.5315999984741211\n",
      "Epoch  9, CIFAR-10 Batch 1:  The cost on train set is 48.725772857666016\n",
      "The accuracy on this validation set is 0.5497999787330627\n",
      "Epoch  9, CIFAR-10 Batch 2:  The cost on train set is 14.251233100891113\n",
      "The accuracy on this validation set is 0.5370000004768372\n",
      "Epoch  9, CIFAR-10 Batch 3:  The cost on train set is 22.355098724365234\n",
      "The accuracy on this validation set is 0.5117999911308289\n",
      "Epoch  9, CIFAR-10 Batch 4:  The cost on train set is 8.045342445373535\n",
      "The accuracy on this validation set is 0.5464000105857849\n",
      "Epoch  9, CIFAR-10 Batch 5:  The cost on train set is 18.564891815185547\n",
      "The accuracy on this validation set is 0.5317999720573425\n",
      "Epoch 10, CIFAR-10 Batch 1:  The cost on train set is 0.0\n",
      "The accuracy on this validation set is 0.5306000113487244\n",
      "Epoch 10, CIFAR-10 Batch 2:  The cost on train set is 0.0\n",
      "The accuracy on this validation set is 0.5407999753952026\n",
      "Epoch 10, CIFAR-10 Batch 3:  The cost on train set is 9.256746292114258\n",
      "The accuracy on this validation set is 0.5297999978065491\n",
      "Epoch 10, CIFAR-10 Batch 4:  The cost on train set is 0.0\n",
      "The accuracy on this validation set is 0.5432000160217285\n",
      "Epoch 10, CIFAR-10 Batch 5:  The cost on train set is 0.0\n",
      "The accuracy on this validation set is 0.5375999808311462\n",
      "Epoch 11, CIFAR-10 Batch 1:  The cost on train set is 8.668903350830078\n",
      "The accuracy on this validation set is 0.5156000256538391\n",
      "Epoch 11, CIFAR-10 Batch 2:  The cost on train set is 0.0\n",
      "The accuracy on this validation set is 0.5446000099182129\n",
      "Epoch 11, CIFAR-10 Batch 3:  The cost on train set is 13.267141342163086\n",
      "The accuracy on this validation set is 0.5389999747276306\n",
      "Epoch 11, CIFAR-10 Batch 4:  The cost on train set is 0.695086658000946\n",
      "The accuracy on this validation set is 0.5479999780654907\n",
      "Epoch 11, CIFAR-10 Batch 5:  The cost on train set is 0.0\n",
      "The accuracy on this validation set is 0.5633999705314636\n",
      "Epoch 12, CIFAR-10 Batch 1:  The cost on train set is 27.318737030029297\n",
      "The accuracy on this validation set is 0.5230000019073486\n",
      "Epoch 12, CIFAR-10 Batch 2:  The cost on train set is 0.0\n",
      "The accuracy on this validation set is 0.5299999713897705\n",
      "Epoch 12, CIFAR-10 Batch 3:  The cost on train set is 0.0\n",
      "The accuracy on this validation set is 0.5633999705314636\n",
      "Epoch 12, CIFAR-10 Batch 4:  The cost on train set is 1.7881387037732566e-08\n",
      "The accuracy on this validation set is 0.5450000166893005\n",
      "Epoch 12, CIFAR-10 Batch 5:  The cost on train set is 0.9176910519599915\n",
      "The accuracy on this validation set is 0.5740000009536743\n",
      "Epoch 13, CIFAR-10 Batch 1:  The cost on train set is 3.87615966796875\n",
      "The accuracy on this validation set is 0.5297999978065491\n",
      "Epoch 13, CIFAR-10 Batch 2:  The cost on train set is 13.488131523132324\n",
      "The accuracy on this validation set is 0.5073999762535095\n",
      "Epoch 13, CIFAR-10 Batch 3:  The cost on train set is 0.0\n",
      "The accuracy on this validation set is 0.5490000247955322\n",
      "Epoch 13, CIFAR-10 Batch 4:  The cost on train set is 2.930154323577881\n",
      "The accuracy on this validation set is 0.5526000261306763\n"
     ]
    },
    {
     "name": "stdout",
     "output_type": "stream",
     "text": [
      "Epoch 13, CIFAR-10 Batch 5:  The cost on train set is 0.2547815144062042\n",
      "The accuracy on this validation set is 0.5590000152587891\n",
      "Epoch 14, CIFAR-10 Batch 1:  The cost on train set is 0.0\n",
      "The accuracy on this validation set is 0.5651999711990356\n",
      "Epoch 14, CIFAR-10 Batch 2:  The cost on train set is 6.914043524375302e-07\n",
      "The accuracy on this validation set is 0.49959999322891235\n",
      "Epoch 14, CIFAR-10 Batch 3:  The cost on train set is 0.0\n",
      "The accuracy on this validation set is 0.5781999826431274\n",
      "Epoch 14, CIFAR-10 Batch 4:  The cost on train set is 0.0\n",
      "The accuracy on this validation set is 0.5612000226974487\n",
      "Epoch 14, CIFAR-10 Batch 5:  The cost on train set is 0.0\n",
      "The accuracy on this validation set is 0.5654000043869019\n",
      "Epoch 15, CIFAR-10 Batch 1:  The cost on train set is 0.0\n",
      "The accuracy on this validation set is 0.555400013923645\n",
      "Epoch 15, CIFAR-10 Batch 2:  The cost on train set is 1.2187652587890625\n",
      "The accuracy on this validation set is 0.5662000179290771\n",
      "Epoch 15, CIFAR-10 Batch 3:  The cost on train set is 0.0\n",
      "The accuracy on this validation set is 0.5626000165939331\n",
      "Epoch 15, CIFAR-10 Batch 4:  The cost on train set is 16.43924903869629\n",
      "The accuracy on this validation set is 0.5339999794960022\n",
      "Epoch 15, CIFAR-10 Batch 5:  The cost on train set is 0.0\n",
      "The accuracy on this validation set is 0.5648000240325928\n",
      "Epoch 16, CIFAR-10 Batch 1:  The cost on train set is 4.41802978515625\n",
      "The accuracy on this validation set is 0.5616000294685364\n",
      "Epoch 16, CIFAR-10 Batch 2:  The cost on train set is 0.0\n",
      "The accuracy on this validation set is 0.5716000199317932\n",
      "Epoch 16, CIFAR-10 Batch 3:  The cost on train set is 0.2311936616897583\n",
      "The accuracy on this validation set is 0.5631999969482422\n",
      "Epoch 16, CIFAR-10 Batch 4:  The cost on train set is 2.4008758068084717\n",
      "The accuracy on this validation set is 0.5422000288963318\n",
      "Epoch 16, CIFAR-10 Batch 5:  The cost on train set is 0.0\n",
      "The accuracy on this validation set is 0.5730000138282776\n",
      "Epoch 17, CIFAR-10 Batch 1:  The cost on train set is 0.0\n",
      "The accuracy on this validation set is 0.5738000273704529\n",
      "Epoch 17, CIFAR-10 Batch 2:  The cost on train set is 0.0\n",
      "The accuracy on this validation set is 0.5631999969482422\n",
      "Epoch 17, CIFAR-10 Batch 3:  The cost on train set is 0.0\n",
      "The accuracy on this validation set is 0.5753999948501587\n",
      "Epoch 17, CIFAR-10 Batch 4:  The cost on train set is 0.0\n",
      "The accuracy on this validation set is 0.5564000010490417\n",
      "Epoch 17, CIFAR-10 Batch 5:  The cost on train set is 0.0\n",
      "The accuracy on this validation set is 0.5612000226974487\n",
      "Epoch 18, CIFAR-10 Batch 1:  The cost on train set is 0.0\n",
      "The accuracy on this validation set is 0.5576000213623047\n",
      "Epoch 18, CIFAR-10 Batch 2:  The cost on train set is 0.0\n",
      "The accuracy on this validation set is 0.5720000267028809\n",
      "Epoch 18, CIFAR-10 Batch 3:  The cost on train set is 0.0\n",
      "The accuracy on this validation set is 0.5601999759674072\n",
      "Epoch 18, CIFAR-10 Batch 4:  The cost on train set is 25.372844696044922\n",
      "The accuracy on this validation set is 0.5511999726295471\n",
      "Epoch 18, CIFAR-10 Batch 5:  The cost on train set is 0.0\n",
      "The accuracy on this validation set is 0.5655999779701233\n",
      "Epoch 19, CIFAR-10 Batch 1:  The cost on train set is 0.0\n",
      "The accuracy on this validation set is 0.5727999806404114\n",
      "Epoch 19, CIFAR-10 Batch 2:  The cost on train set is 0.0\n",
      "The accuracy on this validation set is 0.5555999875068665\n",
      "Epoch 19, CIFAR-10 Batch 3:  The cost on train set is 0.0\n",
      "The accuracy on this validation set is 0.579800009727478\n",
      "Epoch 19, CIFAR-10 Batch 4:  The cost on train set is 0.0\n",
      "The accuracy on this validation set is 0.5735999941825867\n",
      "Epoch 19, CIFAR-10 Batch 5:  The cost on train set is 0.0\n",
      "The accuracy on this validation set is 0.5569999814033508\n",
      "Epoch 20, CIFAR-10 Batch 1:  The cost on train set is 0.088294118642807\n",
      "The accuracy on this validation set is 0.5726000070571899\n",
      "Epoch 20, CIFAR-10 Batch 2:  The cost on train set is 0.0\n",
      "The accuracy on this validation set is 0.5824000239372253\n",
      "Epoch 20, CIFAR-10 Batch 3:  The cost on train set is 0.0\n",
      "The accuracy on this validation set is 0.5777999758720398\n",
      "Epoch 20, CIFAR-10 Batch 4:  The cost on train set is 0.004258447326719761\n",
      "The accuracy on this validation set is 0.5687999725341797\n",
      "Epoch 20, CIFAR-10 Batch 5:  The cost on train set is 0.0\n",
      "The accuracy on this validation set is 0.5756000280380249\n",
      "Epoch 21, CIFAR-10 Batch 1:  The cost on train set is 0.0\n",
      "The accuracy on this validation set is 0.5763999819755554\n",
      "Epoch 21, CIFAR-10 Batch 2:  The cost on train set is 0.0\n",
      "The accuracy on this validation set is 0.5857999920845032\n",
      "Epoch 21, CIFAR-10 Batch 3:  The cost on train set is 0.0\n",
      "The accuracy on this validation set is 0.5727999806404114\n",
      "Epoch 21, CIFAR-10 Batch 4:  The cost on train set is 0.0\n",
      "The accuracy on this validation set is 0.5853999853134155\n",
      "Epoch 21, CIFAR-10 Batch 5:  The cost on train set is 0.0\n",
      "The accuracy on this validation set is 0.5817999839782715\n",
      "Epoch 22, CIFAR-10 Batch 1:  The cost on train set is 1.1574432849884033\n",
      "The accuracy on this validation set is 0.5691999793052673\n",
      "Epoch 22, CIFAR-10 Batch 2:  The cost on train set is 0.0\n",
      "The accuracy on this validation set is 0.5924000144004822\n",
      "Epoch 22, CIFAR-10 Batch 3:  The cost on train set is 0.0\n",
      "The accuracy on this validation set is 0.5839999914169312\n",
      "Epoch 22, CIFAR-10 Batch 4:  The cost on train set is 0.0\n",
      "The accuracy on this validation set is 0.5795999765396118\n",
      "Epoch 22, CIFAR-10 Batch 5:  The cost on train set is 0.0\n",
      "The accuracy on this validation set is 0.5745999813079834\n",
      "Epoch 23, CIFAR-10 Batch 1:  The cost on train set is 0.0\n",
      "The accuracy on this validation set is 0.5591999888420105\n",
      "Epoch 23, CIFAR-10 Batch 2:  The cost on train set is 0.0\n",
      "The accuracy on this validation set is 0.5960000157356262\n",
      "Epoch 23, CIFAR-10 Batch 3:  The cost on train set is 0.0\n",
      "The accuracy on this validation set is 0.5964000225067139\n",
      "Epoch 23, CIFAR-10 Batch 4:  The cost on train set is 0.0\n",
      "The accuracy on this validation set is 0.574999988079071\n",
      "Epoch 23, CIFAR-10 Batch 5:  The cost on train set is 0.0\n",
      "The accuracy on this validation set is 0.576200008392334\n",
      "Epoch 24, CIFAR-10 Batch 1:  The cost on train set is 0.0\n",
      "The accuracy on this validation set is 0.5867999792098999\n",
      "Epoch 24, CIFAR-10 Batch 2:  The cost on train set is 0.0\n",
      "The accuracy on this validation set is 0.5878000259399414\n",
      "Epoch 24, CIFAR-10 Batch 3:  The cost on train set is 0.0\n",
      "The accuracy on this validation set is 0.590399980545044\n",
      "Epoch 24, CIFAR-10 Batch 4:  The cost on train set is 0.46218568086624146\n",
      "The accuracy on this validation set is 0.5753999948501587\n",
      "Epoch 24, CIFAR-10 Batch 5:  The cost on train set is 0.0\n",
      "The accuracy on this validation set is 0.5717999935150146\n",
      "Epoch 25, CIFAR-10 Batch 1:  The cost on train set is 0.0\n",
      "The accuracy on this validation set is 0.5821999907493591\n",
      "Epoch 25, CIFAR-10 Batch 2:  The cost on train set is 0.0\n",
      "The accuracy on this validation set is 0.5910000205039978\n",
      "Epoch 25, CIFAR-10 Batch 3:  The cost on train set is 0.0\n",
      "The accuracy on this validation set is 0.5875999927520752\n",
      "Epoch 25, CIFAR-10 Batch 4:  The cost on train set is 0.0\n",
      "The accuracy on this validation set is 0.5627999901771545\n",
      "Epoch 25, CIFAR-10 Batch 5:  The cost on train set is 0.0\n",
      "The accuracy on this validation set is 0.5852000117301941\n",
      "Epoch 26, CIFAR-10 Batch 1:  The cost on train set is 0.0\n",
      "The accuracy on this validation set is 0.593999981880188\n",
      "Epoch 26, CIFAR-10 Batch 2:  The cost on train set is 11.299413681030273\n",
      "The accuracy on this validation set is 0.5727999806404114\n",
      "Epoch 26, CIFAR-10 Batch 3:  The cost on train set is 1.278051733970642\n",
      "The accuracy on this validation set is 0.5853999853134155\n",
      "Epoch 26, CIFAR-10 Batch 4:  The cost on train set is 0.0\n",
      "The accuracy on this validation set is 0.5777999758720398\n",
      "Epoch 26, CIFAR-10 Batch 5:  The cost on train set is 0.0\n",
      "The accuracy on this validation set is 0.593999981880188\n",
      "Epoch 27, CIFAR-10 Batch 1:  The cost on train set is 0.0\n",
      "The accuracy on this validation set is 0.5881999731063843\n",
      "Epoch 27, CIFAR-10 Batch 2:  The cost on train set is 0.0\n",
      "The accuracy on this validation set is 0.5830000042915344\n",
      "Epoch 27, CIFAR-10 Batch 3:  The cost on train set is 0.0\n",
      "The accuracy on this validation set is 0.5911999940872192\n"
     ]
    },
    {
     "name": "stdout",
     "output_type": "stream",
     "text": [
      "Epoch 27, CIFAR-10 Batch 4:  The cost on train set is 0.0\n",
      "The accuracy on this validation set is 0.5741999745368958\n",
      "Epoch 27, CIFAR-10 Batch 5:  The cost on train set is 0.0\n",
      "The accuracy on this validation set is 0.5917999744415283\n",
      "Epoch 28, CIFAR-10 Batch 1:  The cost on train set is 0.0\n",
      "The accuracy on this validation set is 0.5960000157356262\n",
      "Epoch 28, CIFAR-10 Batch 2:  The cost on train set is 0.0\n",
      "The accuracy on this validation set is 0.5979999899864197\n",
      "Epoch 28, CIFAR-10 Batch 3:  The cost on train set is 0.0\n",
      "The accuracy on this validation set is 0.6074000000953674\n",
      "Epoch 28, CIFAR-10 Batch 4:  The cost on train set is 0.0\n",
      "The accuracy on this validation set is 0.5825999975204468\n",
      "Epoch 28, CIFAR-10 Batch 5:  The cost on train set is 0.0\n",
      "The accuracy on this validation set is 0.579800009727478\n",
      "Epoch 29, CIFAR-10 Batch 1:  The cost on train set is 0.0\n",
      "The accuracy on this validation set is 0.5992000102996826\n",
      "Epoch 29, CIFAR-10 Batch 2:  The cost on train set is 0.0\n",
      "The accuracy on this validation set is 0.598800003528595\n",
      "Epoch 29, CIFAR-10 Batch 3:  The cost on train set is 0.0\n",
      "The accuracy on this validation set is 0.5917999744415283\n",
      "Epoch 29, CIFAR-10 Batch 4:  The cost on train set is 0.0\n",
      "The accuracy on this validation set is 0.5756000280380249\n",
      "Epoch 29, CIFAR-10 Batch 5:  The cost on train set is 0.0\n",
      "The accuracy on this validation set is 0.5878000259399414\n",
      "Epoch 30, CIFAR-10 Batch 1:  The cost on train set is 0.0\n",
      "The accuracy on this validation set is 0.5952000021934509\n",
      "Epoch 30, CIFAR-10 Batch 2:  The cost on train set is 0.0\n",
      "The accuracy on this validation set is 0.5989999771118164\n",
      "Epoch 30, CIFAR-10 Batch 3:  The cost on train set is 0.0\n",
      "The accuracy on this validation set is 0.5849999785423279\n",
      "Epoch 30, CIFAR-10 Batch 4:  The cost on train set is 0.0\n",
      "The accuracy on this validation set is 0.5821999907493591\n",
      "Epoch 30, CIFAR-10 Batch 5:  The cost on train set is 0.0\n",
      "The accuracy on this validation set is 0.5789999961853027\n"
     ]
    }
   ],
   "source": [
    "\"\"\"\n",
    "DON'T MODIFY ANYTHING IN THIS CELL\n",
    "\"\"\"\n",
    "save_model_path = './image_classification'\n",
    "\n",
    "print('Training...')\n",
    "with tf.Session() as sess:\n",
    "    # Initializing the variables\n",
    "    sess.run(tf.global_variables_initializer())\n",
    "    \n",
    "    # Training cycle\n",
    "    for epoch in range(epochs):\n",
    "        # Loop over all batches\n",
    "        n_batches = 5\n",
    "        for batch_i in range(1, n_batches + 1):\n",
    "            for batch_features, batch_labels in helper.load_preprocess_training_batch(batch_i, batch_size):\n",
    "                train_neural_network(sess, optimizer, keep_probability, batch_features, batch_labels)\n",
    "            print('Epoch {:>2}, CIFAR-10 Batch {}:  '.format(epoch + 1, batch_i), end='')\n",
    "            print_stats(sess, batch_features, batch_labels, cost, accuracy)\n",
    "            \n",
    "    # Save Model\n",
    "    saver = tf.train.Saver()\n",
    "    save_path = saver.save(sess, save_model_path)"
   ]
  },
  {
   "cell_type": "markdown",
   "metadata": {},
   "source": [
    "# Checkpoint\n",
    "The model has been saved to disk.\n",
    "## Test Model\n",
    "Test your model against the test dataset.  This will be your final accuracy. You should have an accuracy greater than 50%. If you don't, keep tweaking the model architecture and parameters."
   ]
  },
  {
   "cell_type": "code",
   "execution_count": 260,
   "metadata": {},
   "outputs": [
    {
     "name": "stdout",
     "output_type": "stream",
     "text": [
      "Testing Accuracy: 0.5865308544303798\n",
      "\n"
     ]
    },
    {
     "data": {
      "image/png": "[encoded data removed]",
      "text/plain": [
       "<matplotlib.figure.Figure at 0x10cb13550>"
      ]
     },
     "metadata": {
      "image/png": {
       "height": 319,
       "width": 349
      }
     },
     "output_type": "display_data"
    }
   ],
   "source": [
    "\"\"\"\n",
    "DON'T MODIFY ANYTHING IN THIS CELL\n",
    "\"\"\"\n",
    "%matplotlib inline\n",
    "%config InlineBackend.figure_format = 'retina'\n",
    "\n",
    "import tensorflow as tf\n",
    "import pickle\n",
    "import helper\n",
    "import random\n",
    "\n",
    "# Set batch size if not already set\n",
    "try:\n",
    "    if batch_size:\n",
    "        pass\n",
    "except NameError:\n",
    "    batch_size = 64\n",
    "\n",
    "save_model_path = './image_classification'\n",
    "n_samples = 4\n",
    "top_n_predictions = 3\n",
    "\n",
    "def test_model():\n",
    "    \"\"\"\n",
    "    Test the saved model against the test dataset\n",
    "    \"\"\"\n",
    "\n",
    "    test_features, test_labels = pickle.load(open('preprocess_test.p', mode='rb'))\n",
    "    loaded_graph = tf.Graph()\n",
    "\n",
    "    with tf.Session(graph=loaded_graph) as sess:\n",
    "        # Load model\n",
    "        loader = tf.train.import_meta_graph(save_model_path + '.meta')\n",
    "        loader.restore(sess, save_model_path)\n",
    "\n",
    "        # Get Tensors from loaded model\n",
    "        loaded_x = loaded_graph.get_tensor_by_name('x:0')\n",
    "        loaded_y = loaded_graph.get_tensor_by_name('y:0')\n",
    "        loaded_keep_prob = loaded_graph.get_tensor_by_name('keep_prob:0')\n",
    "        loaded_logits = loaded_graph.get_tensor_by_name('logits:0')\n",
    "        loaded_acc = loaded_graph.get_tensor_by_name('accuracy:0')\n",
    "        \n",
    "        # Get accuracy in batches for memory limitations\n",
    "        test_batch_acc_total = 0\n",
    "        test_batch_count = 0\n",
    "        \n",
    "        for test_feature_batch, test_label_batch in helper.batch_features_labels(test_features, test_labels, batch_size):\n",
    "            test_batch_acc_total += sess.run(\n",
    "                loaded_acc,\n",
    "                feed_dict={loaded_x: test_feature_batch, loaded_y: test_label_batch, loaded_keep_prob: 1.0})\n",
    "            test_batch_count += 1\n",
    "\n",
    "        print('Testing Accuracy: {}\\n'.format(test_batch_acc_total/test_batch_count))\n",
    "\n",
    "        # Print Random Samples\n",
    "        random_test_features, random_test_labels = tuple(zip(*random.sample(list(zip(test_features, test_labels)), n_samples)))\n",
    "        random_test_predictions = sess.run(\n",
    "            tf.nn.top_k(tf.nn.softmax(loaded_logits), top_n_predictions),\n",
    "            feed_dict={loaded_x: random_test_features, loaded_y: random_test_labels, loaded_keep_prob: 1.0})\n",
    "        helper.display_image_predictions(random_test_features, random_test_labels, random_test_predictions)\n",
    "\n",
    "\n",
    "test_model()"
   ]
  },
  {
   "cell_type": "markdown",
   "metadata": {},
   "source": [
    "## Why 50-80% Accuracy?\n",
    "You might be wondering why you can't get an accuracy any higher. First things first, 50% isn't bad for a simple CNN.  Pure guessing would get you 10% accuracy. However, you might notice people are getting scores [well above 80%](http://rodrigob.github.io/are_we_there_yet/build/classification_datasets_results.html#43494641522d3130).  That's because we haven't taught you all there is to know about neural networks. We still need to cover a few more techniques.\n",
    "## Submitting This Project\n",
    "When submitting this project, make sure to run all the cells before saving the notebook.  Save the notebook file as \"dlnd_image_classification.ipynb\" and save it as a HTML file under \"File\" -> \"Download as\".  Include the \"helper.py\" and \"problem_unittests.py\" files in your submission."
   ]
  }
 ],
 "metadata": {
  "kernelspec": {
   "display_name": "Python 3",
   "language": "python",
   "name": "python3"
  },
  "language_info": {
   "codemirror_mode": {
    "name": "ipython",
    "version": 3
   },
   "file_extension": ".py",
   "mimetype": "text/x-python",
   "name": "python",
   "nbconvert_exporter": "python",
   "pygments_lexer": "ipython3",
   "version": "3.5.3"
  }
 },
 "nbformat": 4,
 "nbformat_minor": 1
}
